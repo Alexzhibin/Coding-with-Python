{
 "cells": [
  {
   "cell_type": "code",
   "execution_count": 3,
   "metadata": {
    "collapsed": true
   },
   "outputs": [],
   "source": [
    "from pydelicious import get_popular,get_userposts,get_urlposts"
   ]
  },
  {
   "cell_type": "code",
   "execution_count": 2,
   "metadata": {
    "collapsed": true
   },
   "outputs": [],
   "source": [
    "# The API only returns the last 30 people to post the link, \n",
    "#so the function gathers users from the first 5 links to build a larger set.\n",
    "def initializeUserDict(tag,count=5):\n",
    "    user_dict={}\n",
    "    #get the top count' popular posts\n",
    "    for p1 in get_popular(tag=tag)[0:count]:\n",
    "        #find all users who posted this\n",
    "        for p2 in get_urlposts(p1['href']):\n",
    "            user = p2['user']\n",
    "            user_dict[user]={}\n",
    "    return user_dict"
   ]
  },
  {
   "cell_type": "code",
   "execution_count": null,
   "metadata": {
    "collapsed": true
   },
   "outputs": [],
   "source": [
    "#Unlike the movie critic dataset, there are only two possible ratings in this case: 0 if the user did not post this link, \n",
    "#and 1 if he did."
   ]
  },
  {
   "cell_type": "code",
   "execution_count": null,
   "metadata": {
    "collapsed": true
   },
   "outputs": [],
   "source": [
    "def fillItems(user_dict):\n",
    "    all_items={}\n",
    "    #Find links posted by all users\n",
    "    for user in user_dict:\n",
    "        for i in range(3):\n",
    "            try:\n",
    "                posts=get_userposts(user)\n",
    "                break\n",
    "            except:\n",
    "                print \"Failed user\"+user+\",retrying\"\n",
    "                time.sleep(4)\n",
    "        for post in posts:\n",
    "            url = post['href']\n",
    "            user_dict[user][url]=1.0\n",
    "            all_items[url]=1\n",
    "        #Fillin missing items with 0\n",
    "        for ratings in user_dict.values():\n",
    "            for item in all_items:\n",
    "                if item not in ratings:\n",
    "                    ratings[items]=0.0"
   ]
  },
  {
   "cell_type": "code",
   "execution_count": 1,
   "metadata": {
    "collapsed": false
   },
   "outputs": [
    {
     "ename": "PyDeliciousException",
     "evalue": "HTTP Error 404: Not Found",
     "output_type": "error",
     "traceback": [
      "\u001b[0;31m---------------------------------------------------------------------------\u001b[0m",
      "\u001b[0;31mPyDeliciousException\u001b[0m                      Traceback (most recent call last)",
      "\u001b[0;32m<ipython-input-1-8cb9ca84f471>\u001b[0m in \u001b[0;36m<module>\u001b[0;34m()\u001b[0m\n\u001b[1;32m      1\u001b[0m \u001b[0;32mfrom\u001b[0m \u001b[0mdeliciousrec\u001b[0m \u001b[0;32mimport\u001b[0m \u001b[0;34m*\u001b[0m\u001b[0;34m\u001b[0m\u001b[0m\n\u001b[0;32m----> 2\u001b[0;31m \u001b[0mdelusers\u001b[0m \u001b[0;34m=\u001b[0m \u001b[0minitializeUserDict\u001b[0m\u001b[0;34m(\u001b[0m\u001b[0;34m'programming'\u001b[0m\u001b[0;34m)\u001b[0m\u001b[0;34m\u001b[0m\u001b[0m\n\u001b[0m\u001b[1;32m      3\u001b[0m \u001b[0mdelusers\u001b[0m\u001b[0;34m[\u001b[0m\u001b[0;34m'tsegaran'\u001b[0m\u001b[0;34m]\u001b[0m\u001b[0;34m=\u001b[0m\u001b[0;34m{\u001b[0m\u001b[0;34m}\u001b[0m\u001b[0;34m\u001b[0m\u001b[0m\n\u001b[1;32m      4\u001b[0m \u001b[0mfillItems\u001b[0m\u001b[0;34m(\u001b[0m\u001b[0mdelusers\u001b[0m\u001b[0;34m)\u001b[0m\u001b[0;34m\u001b[0m\u001b[0m\n",
      "\u001b[0;32m/Users/AlexCen1/Documents/Study/Study/Book/Data Mining/python analysis/Coding with Python/deliciousrec.pyc\u001b[0m in \u001b[0;36minitializeUserDict\u001b[0;34m(tag, count)\u001b[0m\n\u001b[1;32m     13\u001b[0m     \u001b[0;32mfor\u001b[0m \u001b[0mp1\u001b[0m \u001b[0;32min\u001b[0m \u001b[0mget_popular\u001b[0m\u001b[0;34m(\u001b[0m\u001b[0mtag\u001b[0m\u001b[0;34m=\u001b[0m\u001b[0mtag\u001b[0m\u001b[0;34m)\u001b[0m\u001b[0;34m[\u001b[0m\u001b[0;36m0\u001b[0m\u001b[0;34m:\u001b[0m\u001b[0mcount\u001b[0m\u001b[0;34m]\u001b[0m\u001b[0;34m:\u001b[0m\u001b[0;34m\u001b[0m\u001b[0m\n\u001b[1;32m     14\u001b[0m         \u001b[0;31m#find all users who posted this\u001b[0m\u001b[0;34m\u001b[0m\u001b[0;34m\u001b[0m\u001b[0m\n\u001b[0;32m---> 15\u001b[0;31m         \u001b[0;32mfor\u001b[0m \u001b[0mp2\u001b[0m \u001b[0;32min\u001b[0m \u001b[0mget_urlposts\u001b[0m\u001b[0;34m(\u001b[0m\u001b[0mp1\u001b[0m\u001b[0;34m[\u001b[0m\u001b[0;34m'href'\u001b[0m\u001b[0;34m]\u001b[0m\u001b[0;34m)\u001b[0m\u001b[0;34m:\u001b[0m\u001b[0;34m\u001b[0m\u001b[0m\n\u001b[0m\u001b[1;32m     16\u001b[0m             \u001b[0muser\u001b[0m \u001b[0;34m=\u001b[0m \u001b[0mp2\u001b[0m\u001b[0;34m[\u001b[0m\u001b[0;34m'user'\u001b[0m\u001b[0;34m]\u001b[0m\u001b[0;34m\u001b[0m\u001b[0m\n\u001b[1;32m     17\u001b[0m             \u001b[0muser_dict\u001b[0m\u001b[0;34m[\u001b[0m\u001b[0muser\u001b[0m\u001b[0;34m]\u001b[0m\u001b[0;34m=\u001b[0m\u001b[0;34m{\u001b[0m\u001b[0;34m}\u001b[0m\u001b[0;34m\u001b[0m\u001b[0m\n",
      "\u001b[0;32m/Users/AlexCen1/Documents/Study/Study/Book/Data Mining/python analysis/Coding with Python/pydelicious.pyc\u001b[0m in \u001b[0;36mget_urlposts\u001b[0;34m(url)\u001b[0m\n",
      "\u001b[0;32m/Users/AlexCen1/Documents/Study/Study/Book/Data Mining/python analysis/Coding with Python/pydelicious.pyc\u001b[0m in \u001b[0;36mgetrss\u001b[0;34m(tag, popular, url, user)\u001b[0m\n",
      "\u001b[0;32m/Users/AlexCen1/Documents/Study/Study/Book/Data Mining/python analysis/Coding with Python/pydelicious.pyc\u001b[0m in \u001b[0;36mdlcs_rss_request\u001b[0;34m(tag, popular, user, url)\u001b[0m\n",
      "\u001b[0;32m/Users/AlexCen1/Documents/Study/Study/Book/Data Mining/python analysis/Coding with Python/pydelicious.pyc\u001b[0m in \u001b[0;36mhttp_request\u001b[0;34m(url, user_agent, retry)\u001b[0m\n",
      "\u001b[0;31mPyDeliciousException\u001b[0m: HTTP Error 404: Not Found"
     ]
    }
   ],
   "source": [
    "from deliciousrec import *\n",
    "delusers = initializeUserDict('programming')\n",
    "delusers['tsegaran']={}\n",
    "fillItems(delusers)"
   ]
  },
  {
   "cell_type": "code",
   "execution_count": 1,
   "metadata": {
    "collapsed": false,
    "scrolled": false
   },
   "outputs": [
    {
     "ename": "PyDeliciousException",
     "evalue": "HTTP Error 404: Not Found",
     "output_type": "error",
     "traceback": [
      "\u001b[0;31m---------------------------------------------------------------------------\u001b[0m",
      "\u001b[0;31mPyDeliciousException\u001b[0m                      Traceback (most recent call last)",
      "\u001b[0;32m<ipython-input-1-cbd88bb20598>\u001b[0m in \u001b[0;36m<module>\u001b[0;34m()\u001b[0m\n\u001b[1;32m      1\u001b[0m \u001b[0;32mimport\u001b[0m \u001b[0mpydelicious\u001b[0m\u001b[0;34m\u001b[0m\u001b[0m\n\u001b[0;32m----> 2\u001b[0;31m \u001b[0mpydelicious\u001b[0m\u001b[0;34m.\u001b[0m\u001b[0mget_userposts\u001b[0m\u001b[0;34m(\u001b[0m\u001b[0;34m'myusr'\u001b[0m\u001b[0;34m)\u001b[0m\u001b[0;34m\u001b[0m\u001b[0m\n\u001b[0m",
      "\u001b[0;32m/Users/AlexCen1/Documents/Study/Study/Book/Data Mining/python analysis/Coding with Python/pydelicious.pyc\u001b[0m in \u001b[0;36mget_userposts\u001b[0;34m(user)\u001b[0m\n",
      "\u001b[0;32m/Users/AlexCen1/Documents/Study/Study/Book/Data Mining/python analysis/Coding with Python/pydelicious.pyc\u001b[0m in \u001b[0;36mgetrss\u001b[0;34m(tag, popular, url, user)\u001b[0m\n",
      "\u001b[0;32m/Users/AlexCen1/Documents/Study/Study/Book/Data Mining/python analysis/Coding with Python/pydelicious.pyc\u001b[0m in \u001b[0;36mdlcs_rss_request\u001b[0;34m(tag, popular, user, url)\u001b[0m\n",
      "\u001b[0;32m/Users/AlexCen1/Documents/Study/Study/Book/Data Mining/python analysis/Coding with Python/pydelicious.pyc\u001b[0m in \u001b[0;36mhttp_request\u001b[0;34m(url, user_agent, retry)\u001b[0m\n",
      "\u001b[0;31mPyDeliciousException\u001b[0m: HTTP Error 404: Not Found"
     ]
    }
   ],
   "source": [
    "import pydelicious\n",
    "pydelicious.get_userposts('myusr') "
   ]
  },
  {
   "cell_type": "code",
   "execution_count": null,
   "metadata": {
    "collapsed": true
   },
   "outputs": [],
   "source": []
  }
 ],
 "metadata": {
  "kernelspec": {
   "display_name": "Python 2",
   "language": "python",
   "name": "python2"
  },
  "language_info": {
   "codemirror_mode": {
    "name": "ipython",
    "version": 2
   },
   "file_extension": ".py",
   "mimetype": "text/x-python",
   "name": "python",
   "nbconvert_exporter": "python",
   "pygments_lexer": "ipython2",
   "version": "2.7.10"
  }
 },
 "nbformat": 4,
 "nbformat_minor": 0
}
